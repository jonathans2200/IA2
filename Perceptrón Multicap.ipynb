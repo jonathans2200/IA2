{
 "cells": [
  {
   "cell_type": "markdown",
   "metadata": {},
   "source": [
    "\n",
    "\n",
    "# jonathan simbana\n",
    "\n",
    "\n",
    "https://github.com/jonathans2200/IA2\n",
    "\n"
   ]
  },
  {
   "cell_type": "code",
   "execution_count": 4,
   "metadata": {},
   "outputs": [
    {
     "data": {
      "image/png": "[encoded data removed]",
      "text/plain": [
       "<Figure size 432x288 with 1 Axes>"
      ]
     },
     "metadata": {
      "needs_background": "light"
     },
     "output_type": "display_data"
    }
   ],
   "source": [
    "# Importacion de las librerias\n",
    "import matplotlib.pyplot as pp\n",
    "import numpy as np\n",
    "\n",
    "# Creacion de los puntos\n",
    "X=np.array([[0, 0], [0, 1], [1, 0], [1, 1]])\n",
    "d=np.array([0,1,1,0])\n",
    "\n",
    "# Dibujo de la grafica\n",
    "pp.scatter(X[:,0],X[:,1], color=['blue' if i==1 else 'red' for i in d])\n",
    "pp.grid(True)\n",
    "pp.show()"
   ]
  },
  {
   "cell_type": "markdown",
   "metadata": {},
   "source": [
    "### Práctica ANN-0:\n",
    "\n",
    "Modifique el código anterior, a fin de usar [Hot Encoding](https://www.quora.com/What-is-one-hot-encoding-and-when-is-it-used-in-data-science) y contar con 2 salidas en lugar de 1."
   ]
  },
  {
   "cell_type": "code",
   "execution_count": 11,
   "metadata": {},
   "outputs": [],
   "source": [
    "import pandas as pd\n",
    "from sklearn.neural_network import MLPClassifier\n",
    "from sklearn.preprocessing import LabelBinarizer"
   ]
  },
  {
   "cell_type": "code",
   "execution_count": 24,
   "metadata": {},
   "outputs": [
    {
     "data": {
      "text/html": [
       "<div>\n",
       "<style scoped>\n",
       "    .dataframe tbody tr th:only-of-type {\n",
       "        vertical-align: middle;\n",
       "    }\n",
       "\n",
       "    .dataframe tbody tr th {\n",
       "        vertical-align: top;\n",
       "    }\n",
       "\n",
       "    .dataframe thead th {\n",
       "        text-align: right;\n",
       "    }\n",
       "</style>\n",
       "<table border=\"1\" class=\"dataframe\">\n",
       "  <thead>\n",
       "    <tr style=\"text-align: right;\">\n",
       "      <th></th>\n",
       "      <th>Puntos</th>\n",
       "      <th>Clase</th>\n",
       "    </tr>\n",
       "  </thead>\n",
       "  <tbody>\n",
       "    <tr>\n",
       "      <th>0</th>\n",
       "      <td>[0, 0]</td>\n",
       "      <td>0</td>\n",
       "    </tr>\n",
       "    <tr>\n",
       "      <th>1</th>\n",
       "      <td>[0, 1]</td>\n",
       "      <td>1</td>\n",
       "    </tr>\n",
       "    <tr>\n",
       "      <th>2</th>\n",
       "      <td>[1, 0]</td>\n",
       "      <td>1</td>\n",
       "    </tr>\n",
       "    <tr>\n",
       "      <th>3</th>\n",
       "      <td>[1, 1]</td>\n",
       "      <td>0</td>\n",
       "    </tr>\n",
       "  </tbody>\n",
       "</table>\n",
       "</div>"
      ],
      "text/plain": [
       "   Puntos  Clase\n",
       "0  [0, 0]      0\n",
       "1  [0, 1]      1\n",
       "2  [1, 0]      1\n",
       "3  [1, 1]      0"
      ]
     },
     "execution_count": 24,
     "metadata": {},
     "output_type": "execute_result"
    }
   ],
   "source": [
    "# Creamos la matriz de hotencondig\n",
    "df = pd.DataFrame(list(zip(X, d)), columns=['Puntos', 'Clase'])\n",
    "df.head()"
   ]
  },
  {
   "cell_type": "code",
   "execution_count": 25,
   "metadata": {},
   "outputs": [
    {
     "name": "stdout",
     "output_type": "stream",
     "text": [
      "[[0]\n",
      " [1]\n",
      " [1]\n",
      " [0]]\n"
     ]
    }
   ],
   "source": [
    "y1 = LabelBinarizer().fit_transform(df.Clase)\n",
    "print(y1)"
   ]
  },
  {
   "cell_type": "code",
   "execution_count": null,
   "metadata": {},
   "outputs": [],
   "source": [
    "# Verificamos la matriz de hotencondig\n",
    "y = LabelBinarizer().fit_transform(d)\n",
    "\n",
    "# TODO:\n",
    "# Modificar las salidas deseadas para representarlas con 2 valores binarios\n",
    "\n",
    "\n",
    "# Modoficar los parametros de la Red Neuronal. Sustituir None por el valor correspondiente\n",
    "mlp=MLPClassifier(solver = 'lbfgs', activation='logistic', alpha=1e-4, tol=1e-15, max_iter=10000, \\\n",
    "                  hidden_layer_sizes=(neuronas_capa_oculta, 2))\n",
    "\n",
    "print(mlp)\n",
    "# Realizamos el proceso de entrenamiento con la nueva representacion de la salida. \n",
    "# Sustituir None por el valor correspondiente:\n",
    "\n",
    "# TODO:\n",
    "\n",
    "mlp.fit(x,None)\n",
    "\n",
    "# Mostramos los pesos entre la entrada y la capa oculta\n",
    "print('Pesos W^(0): \\n:',mlp.coefs_[0])\n",
    "\n",
    "# Mostramos los pesos entre la capa oculta y la capa de salida\n",
    "print('\\nPesos W^(1): \\n:',mlp.coefs_[1])\n",
    "\n",
    "# Probamos si la red devuelve valores apropiados de acuerdo a las entradas (test):\n",
    "for entrada in x:\n",
    "    print('\\nPrueba con {','|'.join([str(i) for i in entrada]),'} => ',mlp.predict(entrada.reshape(1,-1)))"
   ]
  },
  {
   "cell_type": "markdown",
   "metadata": {},
   "source": [
    "### Práctica ANN-1:\n",
    "\n",
    "Genere 1000 puntos aleatorios con coordenadas $(x_{1}, x_{2})$. Con estos puntos, deberá realizar las siguientes tareas:\n",
    "\n",
    "* Seleccionar de forma aleatoria 80% de los puntos para entrenar la red y el restante 20% se empleará para probar la red.\n",
    "* Entrenar la red hasta lograr un error mínimo.\n",
    "* Probar la red y presentar la matriz de [confusión](http://scikit-learn.org/stable/modules/generated/sklearn.metrics.confusion_matrix.html).\n",
    "* Indicar el nivel de [precisión](https://en.wikipedia.org/wiki/Precision_and_recall) (muestras correctamente clasificadas frente al total de muestras):\n",
    "\n",
    "$precision=\\frac{muestras ~~correctamente ~~clasificadas}{total~~ de~~ muestras}$"
   ]
  },
  {
   "cell_type": "code",
   "execution_count": 1,
   "metadata": {},
   "outputs": [],
   "source": [
    "## importamos las librerias\n",
    "import copy\n",
    "import random"
   ]
  },
  {
   "cell_type": "code",
   "execution_count": 7,
   "metadata": {},
   "outputs": [
    {
     "data": {
      "image/png": "[encoded data removed]",
      "text/plain": [
       "<Figure size 432x288 with 1 Axes>"
      ]
     },
     "metadata": {
      "needs_background": "light"
     },
     "output_type": "display_data"
    }
   ],
   "source": [
    "## Agregamos una funcoin  -> x^(3)-3 x^(2)+2 x+1\n",
    "ecuacion = lambda x :  x**3 - 3*x**2 + 2*x + 1\n",
    "\n",
    "def dibujar_funcion(rango = [0.0, 2.5], aleatorios = 1000):\n",
    "    # Genera el rango\n",
    "    x = np.arange(rango[0], rango[1], 0.01)\n",
    "    y = ecuacion(x)\n",
    "    \n",
    "    # puntos aleatorios\n",
    "    z = copy.copy(x)\n",
    "    random.shuffle(z)\n",
    "    \n",
    "    index = 0\n",
    "    puntos_clases = [[],[]]\n",
    "    salidas_deseadas = []\n",
    "\n",
    "    for i in range(aleatorios):\n",
    "        # Agrega el valor randomico\n",
    "        valor = y[index]\n",
    "        punto = valor + random.uniform(-0.25, 0.25)\n",
    "        clase, posicion = (1, 0) if punto >= ecuacion(z[index]) else (0, 1)\n",
    "        puntos_clases[posicion].append([z[index], punto])\n",
    "        salidas_deseadas.append(clase)\n",
    "        # Verifica si ya lelgo al limite\n",
    "        index += -index if index == len(y) - 1 else 1 \n",
    "        \n",
    "    # Prepara los datos  \n",
    "    salidas_deseadas = np.array(salidas_deseadas)\n",
    "    puntos_clase1 = np.array(puntos_clases[0])\n",
    "    puntos_clase2 = np.array(puntos_clases[1])\n",
    "    \n",
    "    data = np.vstack((puntos_clase1, puntos_clase2))\n",
    "    \n",
    "    pp.scatter(puntos_clase1[:,0], puntos_clase1[:,1], lw = 5.0, color = 'gold')\n",
    "    pp.scatter(puntos_clase2[:,0], puntos_clase2[:,1], color = 'blue')\n",
    "    pp.plot(x,y,lw = 1.0, color = 'red')\n",
    "    pp.title('Grafica de puntos')\n",
    "    pp.grid(True)\n",
    "    pp.show()\n",
    "\n",
    "    return salidas_deseadas, data\n",
    "    \n",
    "salidas_deseadas, data = dibujar_funcion()"
   ]
  },
  {
   "cell_type": "markdown",
   "metadata": {},
   "source": [
    "### Dividimos los datos de entrenamiento y prueba"
   ]
  },
  {
   "cell_type": "code",
   "execution_count": 47,
   "metadata": {},
   "outputs": [],
   "source": [
    "from sklearn.model_selection import train_test_split"
   ]
  },
  {
   "cell_type": "code",
   "execution_count": 51,
   "metadata": {},
   "outputs": [
    {
     "name": "stdout",
     "output_type": "stream",
     "text": [
      "Tamaño X_train:  (800, 2)\n",
      "Tamaño X_test:  (200, 2)\n"
     ]
    }
   ],
   "source": [
    "X_train, X_test, y_train, y_test = train_test_split(data, salidas_deseadas, test_size = 0.2,\\\n",
    "                                                    stratify = salidas_deseadas)\n",
    "\n",
    "print('Tamaño X_train: ', X_train.shape)\n",
    "print('Tamaño X_test: ', X_test.shape)"
   ]
  },
  {
   "cell_type": "markdown",
   "metadata": {},
   "source": [
    "### Entrenamos la red"
   ]
  },
  {
   "cell_type": "code",
   "execution_count": 53,
   "metadata": {},
   "outputs": [],
   "source": [
    "# Importamos el Perceptron Multicapa para Clasificacion\n",
    "from sklearn.neural_network import MLPClassifier"
   ]
  },
  {
   "cell_type": "code",
   "execution_count": 68,
   "metadata": {},
   "outputs": [
    {
     "name": "stdout",
     "output_type": "stream",
     "text": [
      "La precicion de la RNA:  0.51\n"
     ]
    }
   ],
   "source": [
    "# Creamos una red neuronal multicapa (Perceptrón)\n",
    "entradas = 2\n",
    "neuronas_capa_oculta = 5\n",
    "neuronas_capa_salida = 1\n",
    "\n",
    "mlp = MLPClassifier(solver = 'lbfgs', activation = 'logistic', hidden_layer_sizes=(neuronas_capa_oculta, neuronas_capa_salida), \\\n",
    "                   max_iter = 10000, verbose = True)\n",
    "\n",
    "# Entrenamos la red neuronal (pasándole las entradas y las salidas deseadas)\n",
    "mlp.fit(data, salidas_deseadas)\n",
    "\n",
    "# Probamos la red neuronal con las entradas con las que se entrenó\n",
    "y_pred = mlp.predict(X_test)\n",
    "presicion = mlp.score(X_test, y_test)\n",
    "print('La precicion de la RNA: ', presicion)"
   ]
  },
  {
   "cell_type": "markdown",
   "metadata": {},
   "source": [
    "### Matriz de confusion"
   ]
  },
  {
   "cell_type": "code",
   "execution_count": 67,
   "metadata": {},
   "outputs": [],
   "source": [
    "from sklearn.metrics import confusion_matrix"
   ]
  },
  {
   "cell_type": "code",
   "execution_count": 72,
   "metadata": {},
   "outputs": [
    {
     "data": {
      "text/plain": [
       "array([[  0,  98],\n",
       "       [  0, 102]], dtype=int64)"
      ]
     },
     "execution_count": 72,
     "metadata": {},
     "output_type": "execute_result"
    }
   ],
   "source": [
    "confusion_matrix(y_test, y_pred)"
   ]
  }
 ],
 "metadata": {
  "kernelspec": {
   "display_name": "Python 3",
   "language": "python",
   "name": "python3"
  },
  "language_info": {
   "codemirror_mode": {
    "name": "ipython",
    "version": 3
   },
   "file_extension": ".py",
   "mimetype": "text/x-python",
   "name": "python",
   "nbconvert_exporter": "python",
   "pygments_lexer": "ipython3",
   "version": "3.8.5"
  }
 },
 "nbformat": 4,
 "nbformat_minor": 2
}
